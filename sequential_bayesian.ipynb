{
 "cells": [
  {
   "cell_type": "markdown",
   "metadata": {},
   "source": [
    "### Sequential Bayesian learning visualization\n",
    "Showing the prior, point/dataset likelihood and posterior distributions for points in a simple linear sequential bayesian learning model.\n",
    "\n",
    "Author: Teun Mathijssen\n",
    "\n",
    "Implementing Bishop p153-154"
   ]
  },
  {
   "cell_type": "code",
   "execution_count": null,
   "metadata": {
    "scrolled": true
   },
   "outputs": [],
   "source": [
    "%pylab inline\n",
    "\n",
    "from scipy.stats import multivariate_normal as mvg"
   ]
  },
  {
   "cell_type": "code",
   "execution_count": null,
   "metadata": {},
   "outputs": [],
   "source": [
    "# Simulation setup\n",
    "N_iter = 100\n",
    "\n",
    "resolution_plot = 61\n",
    "plot_ll_dataset=True\n",
    "\n",
    "a = -0.3, 0.5\n",
    "alpha = 2\n",
    "beta = 25"
   ]
  },
  {
   "cell_type": "code",
   "execution_count": null,
   "metadata": {},
   "outputs": [],
   "source": [
    "def f(x, a):\n",
    "    \"\"\"Linear function.\"\"\"\n",
    "    return a[0] + a[1]*x\n",
    "\n",
    "def gen_t(x, a, beta):\n",
    "    \"\"\"Generate sample with noise.\"\"\"\n",
    "    return f(x, a) + np.random.normal(0, 1/np.sqrt(beta))\n",
    "\n",
    "def gen_Phi(x):\n",
    "    \"\"\"Generate design matrix.\"\"\"\n",
    "    return np.vstack((np.ones(x.size), x)).T\n",
    "\n",
    "def uvg(x, mu, sigma):\n",
    "    \"\"\"Univariate Gaussian PDF.\"\"\"\n",
    "    return 1/(sigma*np.sqrt(2*np.pi))*np.exp(-((x-mu)/sigma)**2/2)"
   ]
  },
  {
   "cell_type": "code",
   "execution_count": null,
   "metadata": {},
   "outputs": [],
   "source": [
    "# Grid variables for plotting.\n",
    "x1 = x2 = np.linspace(-1, 1, resolution_plot)\n",
    "X1, X2 = np.meshgrid(x1, x2)\n",
    "X = np.dstack((X1, X2))\n",
    "X_transpose = np.transpose(X, (2, 0, 1))\n",
    "\n",
    "def plot_data(prior, a, m, S, x, t, ll_dataset=False):\n",
    "    fig = plt.figure(figsize=(10, 5))\n",
    "    \n",
    "    # Likelihood plot.\n",
    "    ax = plt.subplot(131)\n",
    "    \n",
    "    if x.size != 0:\n",
    "        if ll_dataset:\n",
    "            log_ll = np.zeros(X1.shape)\n",
    "            for i in range(x.size):\n",
    "                # Calculate log likelihood of dataset (add 1 to always make log >= 0).\n",
    "                y = f(x[i], X_transpose)\n",
    "                log_ll += np.log(uvg(t[i], y, beta**-1) + 1)\n",
    "\n",
    "            # Normalize and exponentiate log likelihood values.\n",
    "            ll = np.exp(log_ll/np.max(log_ll))\n",
    "            \n",
    "            ax.contourf(X1, X2, ll, resolution_plot, cmap=\"jet\")\n",
    "            ax.set_title(\"Dataset likelihood\")\n",
    "        else:\n",
    "            # Calculate likelihood for last point.\n",
    "            y = f(x[-1], X_transpose)\n",
    "            ll = uvg(t[-1], y, beta**-1)\n",
    "            \n",
    "            ax.contourf(X1, X2, ll, resolution_plot, cmap=\"jet\")\n",
    "            ax.set_title(\"Point likelihood\")\n",
    "            \n",
    "        ax.scatter(a[0], a[1], color=\"white\", s=120, marker=\"+\", linewidth=2)\n",
    "\n",
    "    ax.set_aspect(\"equal\")\n",
    "    ax.set_xticks([-1, 0, 1])\n",
    "    ax.set_yticks([-1, 0, 1])\n",
    "    ax.set_xlabel(\"w1\")\n",
    "    ax.set_ylabel(\"w2\", rotation=0)\n",
    "\n",
    "    # Prior / posterior plot.\n",
    "    ax = plt.subplot(132)\n",
    "    ax.contourf(X1, X2, prior.pdf(X), resolution_plot, cmap=\"jet\")\n",
    "    ax.scatter(a[0], a[1], color=\"white\", s=120, marker=\"+\", linewidth=2)\n",
    "\n",
    "    ax.set_aspect(\"equal\")\n",
    "    ax.set_xticks([-1, 0, 1])\n",
    "    ax.set_yticks([-1, 0, 1])\n",
    "    ax.set_xlabel(\"w1\")\n",
    "    ax.set_ylabel(\"w2\", rotation=0)\n",
    "    ax.set_title(\"Prior/posterior\")\n",
    "    \n",
    "    # Samples plot.\n",
    "    ax = plt.subplot(133)\n",
    "    ax.scatter(x, t, color=\"black\", s=40, facecolors=\"none\")\n",
    "    \n",
    "    # Sample lines using the prior distribution over our weights.\n",
    "    N_samples = 10\n",
    "    samples = np.random.multivariate_normal(m, S, N_samples)\n",
    "    for i in np.arange(N_samples):\n",
    "        y = f(x1, samples[i])\n",
    "        \n",
    "        ax.plot(x1, y, color=\"red\", linewidth=2, alpha=0.3)\n",
    "\n",
    "    ax.set_aspect(\"equal\")\n",
    "    ax.set_xticks([-1, 0, 1])\n",
    "    ax.set_yticks([-1, 0, 1])\n",
    "    ax.set_xlabel(\"x\")\n",
    "    ax.set_ylabel(\"y\", rotation=0)\n",
    "    ax.set_xlim([-1, 1])\n",
    "    ax.set_ylim([-1, 1])\n",
    "    ax.set_title(\"Data and weight samples\")\n",
    "    \n",
    "    plt.subplots_adjust(bottom=0, top=1, left=0, right=1, hspace=0, wspace=0.4)\n",
    "    plt.show()"
   ]
  },
  {
   "cell_type": "code",
   "execution_count": null,
   "metadata": {
    "scrolled": false
   },
   "outputs": [],
   "source": [
    "m_0 = np.zeros(2)\n",
    "S_0 = (alpha**-1)*np.eye(2)\n",
    "x = t = np.array([])\n",
    "\n",
    "prior = mvg(m_0, S_0)\n",
    "plot_data(prior, a, m_0, S_0, x, t)\n",
    "\n",
    "for i in range(N_iter):\n",
    "    cur_x = np.random.uniform(-1, 1)\n",
    "    x = np.append(x, cur_x)\n",
    "    t = np.append(t, gen_t(cur_x, a, beta))\n",
    "\n",
    "    Phi = gen_Phi(x)\n",
    "\n",
    "    S_N = np.linalg.inv(alpha*np.eye(2) + beta*(Phi.T @ Phi))\n",
    "    m_N = beta*(S_N @ Phi.T @ t)\n",
    "    \n",
    "    posterior = mvg(m_N, S_N)\n",
    "    \n",
    "    plot_data(posterior, a, m_N, S_N, x, t, ll_dataset=plot_ll_dataset)"
   ]
  }
 ],
 "metadata": {
  "kernelspec": {
   "display_name": "Python 3",
   "language": "python",
   "name": "python3"
  },
  "language_info": {
   "codemirror_mode": {
    "name": "ipython",
    "version": 3
   },
   "file_extension": ".py",
   "mimetype": "text/x-python",
   "name": "python",
   "nbconvert_exporter": "python",
   "pygments_lexer": "ipython3",
   "version": "3.8.6"
  }
 },
 "nbformat": 4,
 "nbformat_minor": 4
}
